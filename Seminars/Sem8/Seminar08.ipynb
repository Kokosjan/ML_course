{
 "cells": [
  {
   "cell_type": "markdown",
   "metadata": {},
   "source": [
    "# Работа с текстовыми данными"
   ]
  },
  {
   "cell_type": "code",
   "execution_count": 1,
   "metadata": {},
   "outputs": [],
   "source": [
    "import numpy as np\n",
    "import pandas as pd\n",
    "\n",
    "%matplotlib inline\n",
    "import matplotlib.pyplot as plt\n",
    "\n",
    "from sklearn.datasets import fetch_20newsgroups\n",
    "twenty_train = fetch_20newsgroups(subset='train',shuffle=True,random_state=7)\n",
    "twenty_test = fetch_20newsgroups(subset='test', shuffle=True,random_state=7)#"
   ]
  },
  {
   "cell_type": "markdown",
   "metadata": {},
   "source": [
    "Одним из направлений машинного обучения является работа с текстами и извлечение полезной информации из текстов. Чтобы алгоритмы машинного обучения могли работать с текстами, необходимо перевести тексты в наборы чисел. Для этого применяют различные алгоритмы векторизации текстов.\n",
    "\n",
    "Будем рассматривать данные, которые называются “Twenty Newsgroups”. Вот его официальное описание, взятое с [сайта](http://qwone.com/~jason/20Newsgroups/): \n",
    "\n",
    "Данные «The 20 Newsgroups» — это коллекция примерно из 20000 новостных документов, разделенная (приблизительно) равномерно между 20 различными категориями. Насколько нам известно, изначально она собиралась Кеном Ленгом (Ken Lang), возможно, для его работы «Newsweeder: Learning to filter netnews» («Новостной обозреватель: учимся фильтровать новости из сети»), хотя он явно не заявлял об этом. Коллекция «The 20 newsgroups» стала популярным набором данных для экспериментов с техниками машинного обучения для текстовых приложений, таких как классификация текста или его кластеризация."
   ]
  },
  {
   "cell_type": "markdown",
   "metadata": {},
   "source": [
    "1. Импортируем данные 4 категорий с помощью [fetch_20newsgroups](https://scikit-learn.org/stable/modules/generated/sklearn.datasets.fetch_20newsgroups.html)."
   ]
  },
  {
   "cell_type": "code",
   "execution_count": 2,
   "metadata": {},
   "outputs": [],
   "source": [
    "categories = ['alt.atheism', 'soc.religion.christian','comp.graphics', 'sci.med']\n",
    "from sklearn.datasets import fetch_20newsgroups\n",
    "twenty_train = fetch_20newsgroups(subset='train',shuffle=True,random_state=7)#"
   ]
  },
  {
   "cell_type": "code",
   "execution_count": 3,
   "metadata": {},
   "outputs": [
    {
     "data": {
      "text/plain": [
       "array([ 5,  1,  6, ..., 15,  4,  8])"
      ]
     },
     "execution_count": 3,
     "metadata": {},
     "output_type": "execute_result"
    }
   ],
   "source": [
    "twenty_train.target"
   ]
  },
  {
   "cell_type": "code",
   "execution_count": 4,
   "metadata": {},
   "outputs": [
    {
     "data": {
      "text/plain": [
       "['alt.atheism',\n",
       " 'comp.graphics',\n",
       " 'comp.os.ms-windows.misc',\n",
       " 'comp.sys.ibm.pc.hardware',\n",
       " 'comp.sys.mac.hardware',\n",
       " 'comp.windows.x',\n",
       " 'misc.forsale',\n",
       " 'rec.autos',\n",
       " 'rec.motorcycles',\n",
       " 'rec.sport.baseball',\n",
       " 'rec.sport.hockey',\n",
       " 'sci.crypt',\n",
       " 'sci.electronics',\n",
       " 'sci.med',\n",
       " 'sci.space',\n",
       " 'soc.religion.christian',\n",
       " 'talk.politics.guns',\n",
       " 'talk.politics.mideast',\n",
       " 'talk.politics.misc',\n",
       " 'talk.religion.misc']"
      ]
     },
     "execution_count": 4,
     "metadata": {},
     "output_type": "execute_result"
    }
   ],
   "source": [
    "twenty_train.target_names # значения целевой переменной "
   ]
  },
  {
   "cell_type": "code",
   "execution_count": 5,
   "metadata": {},
   "outputs": [
    {
     "name": "stdout",
     "output_type": "stream",
     "text": [
      "11314\n"
     ]
    }
   ],
   "source": [
    "print(len(twenty_train.data)) #количество документов в обучающей выборке"
   ]
  },
  {
   "cell_type": "code",
   "execution_count": 6,
   "metadata": {},
   "outputs": [
    {
     "name": "stdout",
     "output_type": "stream",
     "text": [
      "From: gld@cunixb.cc.columbia.edu (Gary L Dare)\n",
      "Subject: Re: Z Magazine: Health Care Reform (March 93)\n",
      "Nntp-Posting-Host: cunixb.cc.columbia.edu\n",
      "Reply-To: gld@cunixb.cc.columbia.edu (Gary L Dare)\n",
      "Organization: PhDs In The Hall\n",
      "Lines: 95\n",
      "\n",
      "{Sorry, Harel et al, but our doctors and most hospitals are still\n",
      "private in Canada as well as in much of Western Europe.}\n",
      "\n",
      "harelb@math.cornell.edu (Harel Barzilai - Grad - Brown) writes:\n",
      ">\t\t =================================== \n",
      ">\t\t H e a l t h   C a r e   R e f o r m \n",
      ">\t\t\t By Camille Colatosti \n",
      ">\t\t Z magazine (see bottom), March 1993 \n",
      ">\t\t =================================== \n",
      ">...\n",
      ">The single-payer model, sometimes called national health insurance, \n",
      ">eliminates private insurance companies and removes health care from \n",
      ">employment. The government provides free health care to all U.S. \n",
      ">residents. And there are no out-of-pocket costs. \n",
      "\n",
      "Wrong.  In better EC countries that use pure (but public) health\n",
      "insurance (like we use in Canada) rather than self-enclosed HMO-like\n",
      "socialized medicine, 30% of our costs comes from private supplementary\n",
      "insurance and/or copayments.  France Magazine's Summer 1992 edition\n",
      "has a fantastic presentation of their basic insurance coverage,\n",
      "including a sample chart of copayment percentages.  For 1-30 days,\n",
      "you're covered for 80% of the public hospital rate, 100% afterward.\n",
      "With extra private insurance, you can get into a private hospital and\n",
      "be covered for any differences beyond the public hospital rate.  The\n",
      "public insurance covers 100% beyond 30 days, or the same cash amount\n",
      "for a private hospital and the difference is paid out-of-pocket or\n",
      "according to your supplementary private insurance.  Over 2/3rds of\n",
      "French have some form of extra private insurance.  So, 30% of health\n",
      "costs in Europe are out of private funds and not gleaned from other\n",
      "taxes.  The GDP figures are combined public and private expenditures\n",
      "for total outlay using the same methods that yield the 13-14% figure\n",
      "for the U.S.\n",
      "\n",
      "That the French had deductibles and copayments in their insurance fund\n",
      "is to their credit ... I am in the minority for advocating such back\n",
      "in Canada (to make the Canadian insurance look more like real health\n",
      "insurance -- which actually it is).  The new Reform Party, a breakoff\n",
      "of traditionalists from the Conservatives with a mildly \"libertarian\"\n",
      "faction, hold our public health insurance as an untouchable but that\n",
      "just a few people have to be reminded that it's not free (the average\n",
      "Canadian/European is more fiscally naive than their American\n",
      "counterparts on issues like these).\n",
      "\n",
      "I'm one of the few people who favour copayments (forget about\n",
      "leftists, even our conservatives attack me for it on the Canadian\n",
      "newsgroups) to make it look more like real insurance, 'cos the 100%\n",
      "insurance payment is hidden (unlike in France) and if you didn't know\n",
      "it, you'd believe it actually is socialized medicine (American\n",
      "conservatives/libertarians and Canadian leftists are the only ones who\n",
      "seriously call it that).  Canadians aren't worried about the\n",
      "Americans, who spend 14%; we're worried about the French and Germans\n",
      "who spend 7% to our 9% ... so the insurance is looking at things that\n",
      "shouldn't be paid for out of general funds like physicals for\n",
      "insurance policies, sick notes, electrolysis, etc.  The reason that\n",
      "the Canadian health insurance hasn't spiralled out of control despite\n",
      "being open and universal is that unlike Americans, there is no urge to\n",
      "spend all of your benefits' worth, and more if you can ... we're a\n",
      "different culture.\n",
      "\n",
      ">Like the play or pay model, managed competition leaves in place two \n",
      ">elements of the current health care system that reformers most often \n",
      ">criticize: the private, for-profit insurance industry; and the \n",
      ">employer-based system of coverage. Managed competition compels \n",
      ">employers to enroll their workers in large pools of health insurance \n",
      ">customers. Entire industries may, for example, sponsor a pool or \n",
      ">network. Insurance companies, doctors, hospitals and other health \n",
      ">care providers then bid for the pool's business, competing- in \n",
      ">theory- on the basis of price and quality. \n",
      "\n",
      "\"Managed Care\" relies on HMO's, which are unknown in most western\n",
      "nations that use only public health insurance like Canada, France\n",
      "and Germany (I'm Canadian, and my German father-in-law-to-be says\n",
      "of HMO/NHS approaches, \"We left that behind with East Germany!\").\n",
      "Sure, HMO/NHS controls costs because you have managers strangling\n",
      "doctors with budget strings.\n",
      "\n",
      "In Canada, we use the public health insurance approach as in France\n",
      "and Germany, with all private doctors and both private and public\n",
      "hospitals.  It is all pure insurance without HMO's.  The divisions\n",
      "are different, with the Germans using a couple hundred interlinked\n",
      "\"sickness funds\" over a century old while Canada divides by their\n",
      "provinces (who run the insurance fund and set local fees with the\n",
      "doctors monopoly; federal funds cover the fees disbursed.)\n",
      "\n",
      "With such an open-ended system, it's no surprise that Canada is #2 to\n",
      "the U.S. in costs; all-insurance is the most expensive way to go. The\n",
      "French and Germans use the same approach but have larger populations\n",
      "in more compact geography to improve scales of economy.\n",
      "\n",
      "gld\n",
      "--\n",
      "~~~~~~~~~~~~~~~~~~~~~~~~ Je me souviens ~~~~~~~~~~~~~~~~~~~~~~~~~~~~~\n",
      "Gary L. Dare\n",
      "> gld@columbia.EDU \t\t\tGO  Winnipeg Jets  GO!!!\n",
      "> gld@cunixc.BITNET\t\t\tSelanne + Domi ==> Stanley\n",
      "\n"
     ]
    }
   ],
   "source": [
    "print(twenty_train.data[250]) # типичный документ "
   ]
  },
  {
   "cell_type": "code",
   "execution_count": 7,
   "metadata": {},
   "outputs": [
    {
     "name": "stdout",
     "output_type": "stream",
     "text": [
      "18\n",
      "talk.politics.misc\n"
     ]
    }
   ],
   "source": [
    "y=twenty_train.target[250]\n",
    "print(y)\n",
    "print(twenty_train.target_names[y]) # и категория документа "
   ]
  },
  {
   "cell_type": "code",
   "execution_count": 8,
   "metadata": {},
   "outputs": [
    {
     "name": "stdout",
     "output_type": "stream",
     "text": [
      "comp.windows.x\n",
      "comp.graphics\n",
      "misc.forsale\n",
      "talk.politics.guns\n",
      "talk.politics.guns\n",
      "rec.autos\n",
      "comp.windows.x\n",
      "sci.crypt\n",
      "comp.sys.mac.hardware\n",
      "talk.politics.mideast\n"
     ]
    }
   ],
   "source": [
    "for t in twenty_train.target[:10]:\n",
    "    print(twenty_train.target_names[t]) # категории первых 10 документов"
   ]
  },
  {
   "cell_type": "markdown",
   "metadata": {},
   "source": [
    "#### 1. А что делает вот такая функция? "
   ]
  },
  {
   "cell_type": "code",
   "execution_count": 9,
   "metadata": {},
   "outputs": [
    {
     "name": "stdout",
     "output_type": "stream",
     "text": [
      "[480 584 591 590 578 593 585 594 598 597 600 595 591 594 593 599 546 564\n",
      " 465 377]\n"
     ]
    }
   ],
   "source": [
    "print(np.bincount(twenty_train.target))"
   ]
  },
  {
   "cell_type": "markdown",
   "metadata": {},
   "source": [
    "## Мешок слов"
   ]
  },
  {
   "cell_type": "markdown",
   "metadata": {},
   "source": [
    "* составим словарь слов, появляющихся в документах обучающей выборки; \n",
    "\n",
    "* каждому слову припишем уникальный целочисленный индекс $j$; \n",
    "\n",
    "* для каждого документа вычислим количество употреблений каждого слова словаря: $X[i,j]$ - количество слов с индексом $j$ в документе $i$.\n",
    "\n",
    "\n",
    "![image](bag_of_words.png)\n",
    "\n"
   ]
  },
  {
   "cell_type": "code",
   "execution_count": 10,
   "metadata": {},
   "outputs": [],
   "source": [
    "from sklearn.feature_extraction.text import CountVectorizer\n",
    "count_vect = CountVectorizer() \n",
    "X_train_counts = count_vect.fit_transform(twenty_train.data)"
   ]
  },
  {
   "cell_type": "code",
   "execution_count": 11,
   "metadata": {},
   "outputs": [
    {
     "name": "stdout",
     "output_type": "stream",
     "text": [
      "(11314, 130107)\n"
     ]
    }
   ],
   "source": [
    "print(X_train_counts.shape)"
   ]
  },
  {
   "cell_type": "code",
   "execution_count": 12,
   "metadata": {},
   "outputs": [
    {
     "data": {
      "text/plain": [
       "58830"
      ]
     },
     "execution_count": 12,
     "metadata": {},
     "output_type": "execute_result"
    }
   ],
   "source": [
    "count_vect.vocabulary_.get('get') # индекс слова в словаре"
   ]
  },
  {
   "cell_type": "markdown",
   "metadata": {},
   "source": [
    "Данные представляют собой разряженную матрицу (sparse matrix) - матрицу с большим количеством нулей:"
   ]
  },
  {
   "cell_type": "code",
   "execution_count": 13,
   "metadata": {},
   "outputs": [
    {
     "data": {
      "text/plain": [
       "<11314x130107 sparse matrix of type '<class 'numpy.int64'>'\n",
       "\twith 1787565 stored elements in Compressed Sparse Row format>"
      ]
     },
     "execution_count": 13,
     "metadata": {},
     "output_type": "execute_result"
    }
   ],
   "source": [
    "X_train_counts"
   ]
  },
  {
   "cell_type": "markdown",
   "metadata": {},
   "source": [
    "## TF-IDF\n",
    "\n",
    "Ещё один способ работы с текстовыми данными — [TF-IDF](https://en.wikipedia.org/wiki/Tf–idf) (**T**erm **F**requency–**I**nverse **D**ocument **F**requency). Рассмотрим коллекцию текстов $D$.  Для каждого уникального слова $t$ из документа $d \\in D$ вычислим следующие величины:\n",
    "\n",
    "1. Term Frequency – количество вхождений слова в отношении к общему числу слов в тексте:\n",
    "$$\\text{tf}(t, d) = \\frac{n_{td}}{\\sum_{t \\in d} n_{td}},$$\n",
    "где $n_{td}$ — количество вхождений слова $t$ в текст $d$.\n",
    "1. Inverse Document Frequency\n",
    "$$\\text{idf}(t, D) = \\log \\frac{\\left| D \\right|}{\\left| \\{d\\in D: t \\in d\\} \\right|},$$\n",
    "где $\\left| \\{d\\in D: t \\in d\\} \\right|$ – количество текстов в коллекции, содержащих слово $t$.\n",
    "\n",
    "Тогда для каждой пары (слово, текст) $(t, d)$ вычислим величину:\n",
    "$$\\text{tf-idf}(t,d, D) = \\text{tf}(t, d)\\cdot \\text{idf}(t, D).$$\n",
    "\n",
    "Отметим, что значение $\\text{tf}(t, d)$ корректируется для часто встречающихся общеупотребимых слов при помощи значения $\\text{idf}(t, D).$\n",
    "\n",
    "Признаковым описанием одного объекта $d \\in D$ будет вектор $\\bigg(\\text{tf-idf}(t,d, D)\\bigg)_{t\\in V}$, где $V$ – словарь всех слов, встречающихся в коллекции $D$."
   ]
  },
  {
   "cell_type": "code",
   "execution_count": 14,
   "metadata": {},
   "outputs": [
    {
     "name": "stdout",
     "output_type": "stream",
     "text": [
      "(11314, 130107)\n"
     ]
    }
   ],
   "source": [
    "from sklearn.feature_extraction.text import TfidfTransformer\n",
    "tfidf_transformer = TfidfTransformer()\n",
    "X_train_tfidf = tfidf_transformer.fit_transform(X_train_counts)\n",
    "print(X_train_tfidf.shape)"
   ]
  },
  {
   "cell_type": "code",
   "execution_count": null,
   "metadata": {
    "collapsed": true
   },
   "outputs": [],
   "source": []
  }
 ],
 "metadata": {
  "kernelspec": {
   "display_name": "Python 3",
   "language": "python",
   "name": "python3"
  },
  "language_info": {
   "codemirror_mode": {
    "name": "ipython",
    "version": 3
   },
   "file_extension": ".py",
   "mimetype": "text/x-python",
   "name": "python",
   "nbconvert_exporter": "python",
   "pygments_lexer": "ipython3",
   "version": "3.7.3"
  }
 },
 "nbformat": 4,
 "nbformat_minor": 2
}
